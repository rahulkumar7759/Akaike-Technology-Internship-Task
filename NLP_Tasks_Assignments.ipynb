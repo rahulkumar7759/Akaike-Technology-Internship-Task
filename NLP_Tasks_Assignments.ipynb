{
  "cells": [
    {
      "cell_type": "code",
      "execution_count": 1,
      "metadata": {
        "colab": {
          "base_uri": "https://localhost:8080/"
        },
        "id": "Uky1cepSbRep",
        "outputId": "d686d6c5-5ed2-4ea5-a9ad-ef16587cee63"
      },
      "outputs": [
        {
          "output_type": "stream",
          "name": "stdout",
          "text": [
            "Mounted at /content/drive\n"
          ]
        }
      ],
      "source": [
        "from google.colab import drive\n",
        "drive.mount('/content/drive')"
      ]
    },
    {
      "cell_type": "markdown",
      "metadata": {
        "id": "kTrDdrwtOv2N"
      },
      "source": [
        "## *Import library's*"
      ]
    },
    {
      "cell_type": "code",
      "execution_count": 2,
      "metadata": {
        "id": "gWO42QQpLOC-"
      },
      "outputs": [],
      "source": [
        "import spacy\n",
        "import random\n",
        "import numpy as np\n",
        "import pandas as pd"
      ]
    },
    {
      "cell_type": "markdown",
      "metadata": {
        "id": "8zonUMmNO7lE"
      },
      "source": [
        "##*Load the english language model*\n"
      ]
    },
    {
      "cell_type": "code",
      "execution_count": 3,
      "metadata": {
        "id": "UUQUVcRoLTcv"
      },
      "outputs": [],
      "source": [
        "nlp = spacy.load(\"en_core_web_sm\")"
      ]
    },
    {
      "cell_type": "markdown",
      "metadata": {
        "id": "VGX16PewO1vt"
      },
      "source": [
        "## *Define function*"
      ]
    },
    {
      "cell_type": "code",
      "execution_count": 4,
      "metadata": {
        "id": "9_MSrimsLfVN"
      },
      "outputs": [],
      "source": [
        "def get_mca_questions(context: str, num_questions: int):\n",
        "  doc = nlp(context)"
      ]
    },
    {
      "cell_type": "markdown",
      "metadata": {
        "id": "3BubeSS8PSLr"
      },
      "source": [
        "## *Define MCQ generation function*"
      ]
    },
    {
      "cell_type": "code",
      "execution_count": 5,
      "metadata": {
        "id": "bEZoDQx7PJPz"
      },
      "outputs": [],
      "source": [
        "def generate_mcq_with_multiple_correct(question, correct_answers, other_options, num_options=4):\n",
        "        options = correct_answers + other_options\n",
        "        random.shuffle(options)\n",
        "\n",
        "        mcq = {\n",
        "            \"question\": question,\n",
        "            \"options\": options,\n",
        "            \"correct_answers\": correct_answers\n",
        "        }"
      ]
    },
    {
      "cell_type": "markdown",
      "source": [
        "## *Generate a Diffrent MCQ Question*"
      ],
      "metadata": {
        "id": "gy2X6QJEfn-A"
      }
    },
    {
      "cell_type": "code",
      "execution_count": 6,
      "metadata": {
        "id": "OgVr6DdJPQ6U"
      },
      "outputs": [],
      "source": [
        "def generate_variety_question():\n",
        "        # randomly select the sentence from content\n",
        "        sentence = random.choice(list(doc.sents))\n",
        "\n",
        "        # randomly choose non- pronounciation words from sentence as blank word\n",
        "        blank_word = random.choice([token for token in sentence if not token.is_punct])\n",
        "\n",
        "        # create a question text with blank word ----\n",
        "        question_text = sentence.text.replace(blank_word.text, \"______\")\n",
        "\n",
        "        #set correct answers to the blank word\n",
        "        correct_answers = [blank_word.text]\n",
        "\n",
        "        #generating other possible answers\n",
        "        other_options = [token.text for token in doc if token.is_alpha and token.text != correct_answers[0]]\n",
        "\n",
        "        #randonly determine how many correct options\n",
        "        num_correct_options = random.randint(1, 2)\n",
        "\n",
        "        #randomly select correct options to the list of options\n",
        "        correct_answers.extend(random.sample(other_options, num_correct_options))\n",
        "\n",
        "        # no of incorrect answers\n",
        "        num_other_options = min(4 - num_correct_options, len(other_options))\n",
        "        other_options = random.sample(other_options, num_other_options)\n",
        "\n",
        "        #generationg final MCQ\n",
        "        mcq = generate_mcq_with_multiple_correct(question_text, correct_answers, other_options)\n",
        "        return mcq"
      ]
    },
    {
      "cell_type": "markdown",
      "source": [
        "## *Generate questions & Process and format questions*"
      ],
      "metadata": {
        "id": "wxdwuVSBgD4X"
      }
    },
    {
      "cell_type": "code",
      "execution_count": 7,
      "metadata": {
        "id": "XjoSbzNbPwol"
      },
      "outputs": [],
      "source": [
        "def mca_questions(questions):\n",
        "  #created empty list to store multiple choice questions\n",
        "  mca_questions = []\n",
        "# enumerate function is used to iterate over the questions\n",
        "  for i, question in enumerate(questions, start=1):\n",
        "\n",
        "        #created a string for question number and question text.\n",
        "        question_str = f\"Q{i}: {question['question']}\\n\"\n",
        "\n",
        "        #created empty string to store option for current question\n",
        "        options_str = \"\"\n",
        "\n",
        "        #iterate through options\n",
        "        for j, option in enumerate(question['options']):\n",
        "            options_str += f\"{j+1}. {option}\\n\"\n",
        "\n",
        "        #format the correct answers into human redable format\n",
        "        correct_options_formatted = \" & \".join([f\"({chr(97+question['options'].index(ans))})\" for ans in question['correct_answers']])\n",
        "\n",
        "        #combine the questions and options and format the correct answes\n",
        "        correct_options_str = f\"Correct Options: {correct_options_formatted}\"\n",
        "\n",
        "        #add the questions into formated questions\n",
        "        mca_question = f\"{question_str}{options_str}{correct_options_str}\\n\"\n",
        "        mca_questions.append(mca_question)\n",
        "\n",
        "  return mca_questions"
      ]
    },
    {
      "cell_type": "markdown",
      "metadata": {
        "id": "_0F-mdBcexgq"
      },
      "source": [
        "##Print the question"
      ]
    },
    {
      "cell_type": "code",
      "execution_count": 3,
      "metadata": {
        "id": "I_rC7P78TZbZ",
        "colab": {
          "base_uri": "https://localhost:8080/"
        },
        "outputId": "d67fa8f4-23d9-4e0f-eef7-f3a355eb11a0"
      },
      "outputs": [
        {
          "output_type": "stream",
          "name": "stdout",
          "text": [
            "Enter the paragraph: Aurangzeb was the last of the powerful Mughal rulers. He established control over a very large part of the territory that is now known as India. After his death in 1707, many Mughal governors (subadars) and big zamindars began asserting their authority and establishing regional kingdoms. As powerful regional kingdoms emerged in various parts of India, Delhi could no longer function as an effective centre. By the second half of the eighteenth century, however, a new power was emerging on the political horizon – the British. Did you know that the British originally came as a small trading company and were reluctant to acquire territories? How then did they come to be masters of a vast empire? In this chapter you will see how this came about. After Aurangzeb there was no powerful Mughal ruler, but Mughal emperors continued to be symbolically important. In fact, when a massive rebellion against British rule broke out in 1857, Bahadur Shah Zafar, the Mughal emperor at the time, was seen as the natural leader.   Once the revolt was put down by the company, Bahadur Shah Zafar was forced to leave the kingdom, and his sons were shot in cold blood. In 1600,t h e E a s t India Company acquired a charter from the ruler of England, Queen Elizabeth I, granting it the sole right to trade with the East. This meant that no other trading group in England could compete with the East India Company. With this charter, the Company could venture across the oceans, looking for new lands from which it could buy goods at a cheap price, and carry them back to Europe to sell at higher prices. The Company did not have to fear competition from other English trading companies. Mercantile trading companies in those days made profit primarily by excluding competition, so that they could buy cheap and sell dear. The royal charter, however, could not prevent other European powers from entering the Eastern markets. By the time the first English ships sailed down the west coast of Africa, round the Cape of Good Hope, and crossed the Indian Ocean, the Portuguese had already established their presence in the western coast of India, and had their base in Goa. In fact, it was Vasco da Gama, a Portuguese explorer, who had discovered this sea route to India in 1498.   By the early seventeenth century, the Dutch too were exploring the possibilities of trade in the Indian Ocean. Soon the French traders arrived on the scene. The problem was that all the companies were interested in buying the same things. The fine qualities of cotton and silk produced in India had a big market in Europe. Pepper, cloves, cardamom and cinnamon too were in great demand. Competition amongst the European companies inevitably pushed up the prices at which these goods could be purchased, and this reduced the profits that could be earned. The only way the trading companies could flourish was by eliminating rival competitors. The urge to secure markets, therefore, led to fierce battles between the trading companies. Through the seventeenth and eighteenth centuries they regularly sank each other’s ships, blockaded routes, and prevented rival ships from moving with supplies of goods. Trade was carried on with arms and trading posts were protected through fortification. This effort to fortify settlements and carry on profitable trade also led to intense conflict with local rulers. The company therefore found it difficult to separate trade from politics. Let us see how this happened. East India Company begins trade in Bengal The first English factory was set up on the banks of the river Hugli in 1651.   This was the base from which the Company’s traders, known at that time as “factors”, operated. The factory had a warehouse where goods for export were stored, and it had offices where Company officials sat. As trade expanded, the Company persuaded merchants and traders to come and settle near the factory. By 1696, it began building a fort around the settlement. Two years later, it bribed Mughal officials into giving the Company zamindari rights over three villages. One of these was Kalikata, which later grew into the city of Calcutta or Kolkata as it is known today. It also persuaded the Mughal emperor Aurangzeb to issue a farman granting the Company the right to trade duty free. The Company tried continuously to press for more concessions and manipulate existing privileges. Aurangzeb’s farman, for instance, had granted only the Company the right to trade duty free. But officials of the Company, who were carrying on private trade on the side, were expected to pay duty.   This they refused to pay, causing an enormous loss of revenue for Bengal. How could the Nawab of Bengal, Murshid Quli Khan, not protest? How trade led to battles Through the early eighteenth century, the conflict between the Company and the nawabs of Bengal intensified. After the death of Aurangzeb, the Bengal nawabs asserted their power and autonomy, as other regional powers were doing at that time. Murshid Quli Khan was followed by Alivardi Khan and then Sirajuddaulah as the Nawab of Bengal. Each one of them was a strong ruler. They refused to grant the Company concessions, demanded large tributes for the Company’s right to trade, denied it any right to mint coins, and stopped it from extending its fortifications. Accusing the Company of deceit, they claimed that the Company was depriving the Bengal government of huge amounts of revenue and undermining the authority of the nawab. It was refusing to pay taxes, writing disrespectful letters, and trying to humiliate the nawab and his officials. The Company on its part declared that the unjust demands of the local officials were ruining the trade of the Company, and trade could flourish only if the duties were removed. It was also convinced that to expand trade, it had to enlarge its settlements, buy up villages, and rebuild its forts. The conflicts led to confrontations and finally culminated in the famous Battle of Plassey.\n",
            "Enter the number of questions: 10\n",
            "Q1: How could the ______ of Bengal, Murshid Quli Khan, not protest?\n",
            "1. by\n",
            "2. reduced\n",
            "3. duty\n",
            "4. The\n",
            "5. Nawab\n",
            "Correct Options: (e) & (d) & (b)\n",
            "\n",
            "Q2: How then did they come to be masters of a ______ empire?\n",
            "1. vast\n",
            "2. first\n",
            "3. first\n",
            "4. begins\n",
            "5. doing\n",
            "Correct Options: (a) & (b)\n",
            "\n",
            "Q3: The Company on its part declared ______ the unjust demands of the local officials were ruining the trade of the Company, and trade could flourish only if the duties were removed.\n",
            "1. regional\n",
            "2. scene\n",
            "3. that\n",
            "4. Hugli\n",
            "5. merchants\n",
            "Correct Options: (c) & (e)\n",
            "\n",
            "Q4: Aurangzeb’s farman, for instance, had granted only the Company the ______ to trade duty free.\n",
            "1. India\n",
            "2. of\n",
            "3. Soon\n",
            "4. export\n",
            "5. right\n",
            "Correct Options: (e) & (d) & (b)\n",
            "\n",
            "Q5: In 1600,t h e E a s t India Company acquired a ______ from the ruler of England, Queen Elizabeth I, granting it the sole right to trade with the East.\n",
            "1. days\n",
            "2. his\n",
            "3. Kolkata\n",
            "4. charter\n",
            "5. of\n",
            "Correct Options: (d) & (c)\n",
            "\n",
            "Q6: The Company did not have to fear competition from ______ English trading companies.\n",
            "1. other\n",
            "2. of\n",
            "3. causing\n",
            "4. trading\n",
            "5. led\n",
            "Correct Options: (a) & (c)\n",
            "\n",
            "Q7: After Aurangzeb there was no powerful Mughal ruler, but Mughal emperors continued to ______ symbolically important.\n",
            "1. Europe\n",
            "2. separate\n",
            "3. and\n",
            "4. be\n",
            "5. Dutch\n",
            "Correct Options: (d) & (b)\n",
            "\n",
            "Q8: Aurangzeb was ______ last of ______ powerful Mughal rulers.\n",
            "1. for\n",
            "2. Company\n",
            "3. the\n",
            "4. important\n",
            "5. produced\n",
            "Correct Options: (c) & (b) & (d)\n",
            "\n",
            "Q9: This they refused to pay, causing an enormous loss of ______ for Bengal.\n",
            "1. revenue\n",
            "2. Goa\n",
            "3. territory\n",
            "4. Mercantile\n",
            "5. first\n",
            "Correct Options: (a) & (c)\n",
            "\n",
            "Q10: He ______ control over a very large part of the territory that is now known as India.\n",
            "1. Bahadur\n",
            "2. the\n",
            "3. could\n",
            "4. group\n",
            "5. established\n",
            "Correct Options: (e) & (c)\n",
            "\n"
          ]
        }
      ],
      "source": [
        "#user input for paragraph\n",
        "context = input(\"Enter the paragraph: \")\n",
        "\n",
        "#no of questions user want to generate\n",
        "num_questions = int(input(\"Enter the number of questions: \"))\n",
        "\n",
        "#calls the function and generate MCQ questions\n",
        "mca_questions = get_mca_questions(context, num_questions)\n",
        "for question in mca_questions:\n",
        "    print(question)"
      ]
    },
    {
      "cell_type": "markdown",
      "metadata": {
        "id": "VZp0LrdCiek9"
      },
      "source": [
        "##MCQ finals codes"
      ]
    },
    {
      "cell_type": "code",
      "execution_count": 4,
      "metadata": {
        "colab": {
          "base_uri": "https://localhost:8080/"
        },
        "id": "601B1JwMVu_u",
        "outputId": "90d771b4-ee3e-40e6-daf9-cc14cbb6cacf"
      },
      "outputs": [
        {
          "output_type": "stream",
          "name": "stdout",
          "text": [
            "Enter the paragraph: Aurangzeb was the last of the powerful Mughal rulers. He established control over a very large part of the territory that is now known as India. After his death in 1707, many Mughal governors (subadars) and big zamindars began asserting their authority and establishing regional kingdoms. As powerful regional kingdoms emerged in various parts of India, Delhi could no longer function as an effective centre. By the second half of the eighteenth century, however, a new power was emerging on the political horizon – the British. Did you know that the British originally came as a small trading company and were reluctant to acquire territories? How then did they come to be masters of a vast empire? In this chapter you will see how this came about. After Aurangzeb there was no powerful Mughal ruler, but Mughal emperors continued to be symbolically important. In fact, when a massive rebellion against British rule broke out in 1857, Bahadur Shah Zafar, the Mughal emperor at the time, was seen as the natural leader.   Once the revolt was put down by the company, Bahadur Shah Zafar was forced to leave the kingdom, and his sons were shot in cold blood. In 1600,t h e E a s t India Company acquired a charter from the ruler of England, Queen Elizabeth I, granting it the sole right to trade with the East. This meant that no other trading group in England could compete with the East India Company. With this charter, the Company could venture across the oceans, looking for new lands from which it could buy goods at a cheap price, and carry them back to Europe to sell at higher prices. The Company did not have to fear competition from other English trading companies. Mercantile trading companies in those days made profit primarily by excluding competition, so that they could buy cheap and sell dear. The royal charter, however, could not prevent other European powers from entering the Eastern markets. By the time the first English ships sailed down the west coast of Africa, round the Cape of Good Hope, and crossed the Indian Ocean, the Portuguese had already established their presence in the western coast of India, and had their base in Goa. In fact, it was Vasco da Gama, a Portuguese explorer, who had discovered this sea route to India in 1498.   By the early seventeenth century, the Dutch too were exploring the possibilities of trade in the Indian Ocean. Soon the French traders arrived on the scene. The problem was that all the companies were interested in buying the same things. The fine qualities of cotton and silk produced in India had a big market in Europe. Pepper, cloves, cardamom and cinnamon too were in great demand. Competition amongst the European companies inevitably pushed up the prices at which these goods could be purchased, and this reduced the profits that could be earned. The only way the trading companies could flourish was by eliminating rival competitors. The urge to secure markets, therefore, led to fierce battles between the trading companies. Through the seventeenth and eighteenth centuries they regularly sank each other’s ships, blockaded routes, and prevented rival ships from moving with supplies of goods. Trade was carried on with arms and trading posts were protected through fortification. This effort to fortify settlements and carry on profitable trade also led to intense conflict with local rulers. The company therefore found it difficult to separate trade from politics. Let us see how this happened. East India Company begins trade in Bengal The first English factory was set up on the banks of the river Hugli in 1651.   This was the base from which the Company’s traders, known at that time as “factors”, operated. The factory had a warehouse where goods for export were stored, and it had offices where Company officials sat. As trade expanded, the Company persuaded merchants and traders to come and settle near the factory. By 1696, it began building a fort around the settlement. Two years later, it bribed Mughal officials into giving the Company zamindari rights over three villages. One of these was Kalikata, which later grew into the city of Calcutta or Kolkata as it is known today. It also persuaded the Mughal emperor Aurangzeb to issue a farman granting the Company the right to trade duty free. The Company tried continuously to press for more concessions and manipulate existing privileges. Aurangzeb’s farman, for instance, had granted only the Company the right to trade duty free. But officials of the Company, who were carrying on private trade on the side, were expected to pay duty.   This they refused to pay, causing an enormous loss of revenue for Bengal. How could the Nawab of Bengal, Murshid Quli Khan, not protest? How trade led to battles Through the early eighteenth century, the conflict between the Company and the nawabs of Bengal intensified. After the death of Aurangzeb, the Bengal nawabs asserted their power and autonomy, as other regional powers were doing at that time. Murshid Quli Khan was followed by Alivardi Khan and then Sirajuddaulah as the Nawab of Bengal. Each one of them was a strong ruler. They refused to grant the Company concessions, demanded large tributes for the Company’s right to trade, denied it any right to mint coins, and stopped it from extending its fortifications. Accusing the Company of deceit, they claimed that the Company was depriving the Bengal government of huge amounts of revenue and undermining the authority of the nawab. It was refusing to pay taxes, writing disrespectful letters, and trying to humiliate the nawab and his officials. The Company on its part declared that the unjust demands of the local officials were ruining the trade of the Company, and trade could flourish only if the duties were removed. It was also convinced that to expand trade, it had to enlarge its settlements, buy up villages, and rebuild its forts. The conflicts led to confrontations and finally culminated in the famous Battle of Plassey.\n",
            "Enter the number of questions: 15\n",
            "Q1: The factory had a warehouse where goods for export were ______, and it had offices where Company officials sat.\n",
            "1. no\n",
            "2. where\n",
            "3. stored\n",
            "4. where\n",
            "5. were\n",
            "Correct Options: (c) & (b)\n",
            "\n",
            "Q2: Mercantile trading companies in those days made profit primarily by excluding competition, so that ______ could buy cheap and sell dear.\n",
            "1. of\n",
            "2. at\n",
            "3. asserted\n",
            "4. was\n",
            "5. they\n",
            "Correct Options: (e) & (a)\n",
            "\n",
            "Q3: This they refused to pay, causing an enormous loss of revenue ______ Bengal.\n",
            "1. on\n",
            "2. prevented\n",
            "3. farman\n",
            "4. in\n",
            "5. for\n",
            "Correct Options: (e) & (a) & (d)\n",
            "\n",
            "Q4: Mercantile trading companies in those days made profit primarily by excluding competition, so that they could buy ______ and sell dear.\n",
            "1. large\n",
            "2. see\n",
            "3. cheap\n",
            "4. in\n",
            "5. a\n",
            "Correct Options: (c) & (b)\n",
            "\n",
            "Q5: How then ______ they come to be masters of a vast empire?\n",
            "1. competition\n",
            "2. their\n",
            "3. asserted\n",
            "4. did\n",
            "5. Company\n",
            "Correct Options: (d) & (a)\n",
            "\n",
            "Q6: This meant that no other trading group in England could compete ______ the East India Company.\n",
            "1. privileges\n",
            "2. moving\n",
            "3. across\n",
            "4. with\n",
            "5. By\n",
            "Correct Options: (d) & (b) & (c)\n",
            "\n",
            "Q7: In fact, it was Vasco da Gama, a Portuguese explorer, ______ had discovered this sea route to India in 1498.   \n",
            "1. regularly\n",
            "2. to\n",
            "3. duty\n",
            "4. who\n",
            "5. later\n",
            "Correct Options: (d) & (c)\n",
            "\n",
            "Q8: By the early ______ century, the Dutch too were exploring the possibilities of trade in the Indian Ocean.\n",
            "1. from\n",
            "2. local\n",
            "3. seventeenth\n",
            "4. therefore\n",
            "5. free\n",
            "Correct Options: (c) & (e) & (b)\n",
            "\n",
            "Q9: The fine qualities of cotton and silk produced in ______ had a big market in Europe.\n",
            "1. they\n",
            "2. rebellion\n",
            "3. e\n",
            "4. India\n",
            "5. By\n",
            "Correct Options: (d) & (c) & (b)\n",
            "\n",
            "Q10: Aurangzeb was ______ last of ______ powerful Mughal rulers.\n",
            "1. the\n",
            "2. way\n",
            "3. many\n",
            "4. Mughal\n",
            "5. effective\n",
            "Correct Options: (a) & (e) & (b)\n",
            "\n",
            "Q11: The factory had a warehouse ______ goods for export were stored, and it had offices ______ Company officials sat.\n",
            "1. where\n",
            "2. that\n",
            "3. eighteenth\n",
            "4. pushed\n",
            "5. Zafar\n",
            "Correct Options: (a) & (b)\n",
            "\n",
            "Q12: But ______ficials ______ the Company, who were carrying on private trade on the side, were expected to pay duty.   \n",
            "1. their\n",
            "2. the\n",
            "3. Cape\n",
            "4. of\n",
            "5. were\n",
            "Correct Options: (d) & (e) & (a)\n",
            "\n",
            "Q13: How ______ the Nawab of Bengal, Murshid Quli Khan, not protest?\n",
            "1. the\n",
            "2. could\n",
            "3. Company\n",
            "4. coast\n",
            "5. had\n",
            "Correct Options: (b) & (d) & (e)\n",
            "\n",
            "Q14: The problem was that all the companies were interested in buying the same ______.\n",
            "1. seventeenth\n",
            "2. could\n",
            "3. came\n",
            "4. was\n",
            "5. things\n",
            "Correct Options: (e) & (a) & (c)\n",
            "\n",
            "Q15: Through the seventeenth ______ eighteenth centuries they regularly sank each other’s ships, blockaded routes, ______ prevented rival ships from moving with supplies of goods.\n",
            "1. and\n",
            "2. the\n",
            "3. trade\n",
            "4. effective\n",
            "5. it\n",
            "Correct Options: (a) & (b) & (c)\n",
            "\n"
          ]
        }
      ],
      "source": [
        "import spacy\n",
        "import random\n",
        "\n",
        "# Load English language model\n",
        "nlp = spacy.load(\"en_core_web_sm\")\n",
        "\n",
        "def get_mca_questions(context: str, num_questions: int):\n",
        "    doc = nlp(context)\n",
        "\n",
        "    def generate_mcq_with_multiple_correct(question, correct_answers, other_options, num_options=4):\n",
        "        options = correct_answers + other_options\n",
        "        random.shuffle(options)\n",
        "\n",
        "        mcq = {\n",
        "            \"question\": question,\n",
        "            \"options\": options,\n",
        "            \"correct_answers\": correct_answers\n",
        "        }\n",
        "\n",
        "        return mcq\n",
        "\n",
        "    def generate_variety_question():\n",
        "        sentence = random.choice(list(doc.sents))\n",
        "        blank_word = random.choice([token for token in sentence if not token.is_punct])\n",
        "\n",
        "        question_text = sentence.text.replace(blank_word.text, \"______\")\n",
        "        correct_answers = [blank_word.text]\n",
        "\n",
        "        other_options = [token.text for token in doc if token.is_alpha and token.text != correct_answers[0]]\n",
        "        num_correct_options = random.randint(1, 2)  # Generate 1 or 2 correct options\n",
        "        correct_answers.extend(random.sample(other_options, num_correct_options))\n",
        "\n",
        "        num_other_options = min(4 - num_correct_options, len(other_options))\n",
        "        other_options = random.sample(other_options, num_other_options)\n",
        "\n",
        "        mcq = generate_mcq_with_multiple_correct(question_text, correct_answers, other_options)\n",
        "        return mcq\n",
        "\n",
        "    questions = [generate_variety_question() for _ in range(num_questions)]\n",
        "\n",
        "    mca_questions = []\n",
        "    for i, question in enumerate(questions, start=1):\n",
        "        question_str = f\"Q{i}: {question['question']}\\n\"\n",
        "        options_str = \"\"\n",
        "        for j, option in enumerate(question['options']):\n",
        "            options_str += f\"{j+1}. {option}\\n\"\n",
        "\n",
        "        correct_options_formatted = \" & \".join([f\"({chr(97+question['options'].index(ans))})\" for ans in question['correct_answers']])\n",
        "        correct_options_str = f\"Correct Options: {correct_options_formatted}\"\n",
        "\n",
        "        mca_question = f\"{question_str}{options_str}{correct_options_str}\\n\"\n",
        "        mca_questions.append(mca_question)\n",
        "\n",
        "    return mca_questions\n",
        "\n",
        "context = input(\"Enter the paragraph: \")\n",
        "num_questions = int(input(\"Enter the number of questions: \"))\n",
        "mca_questions = get_mca_questions(context, num_questions)\n",
        "for question in mca_questions:\n",
        "    print(question)\n"
      ]
    },
    {
      "cell_type": "markdown",
      "source": [
        "## **Thank You**"
      ],
      "metadata": {
        "id": "LIrMdIwkX7lb"
      }
    }
  ],
  "metadata": {
    "colab": {
      "provenance": []
    },
    "kernelspec": {
      "display_name": "Python 3",
      "name": "python3"
    },
    "language_info": {
      "name": "python"
    },
    "accelerator": "TPU"
  },
  "nbformat": 4,
  "nbformat_minor": 0
}